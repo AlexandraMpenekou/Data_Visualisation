{
 "cells": [
  {
   "cell_type": "code",
   "execution_count": 2,
   "id": "initial_id",
   "metadata": {
    "collapsed": true,
    "ExecuteTime": {
     "end_time": "2024-05-21T10:02:59.263517100Z",
     "start_time": "2024-05-21T10:02:59.213257900Z"
    }
   },
   "outputs": [
    {
     "data": {
      "text/plain": "<IPython.lib.display.IFrame at 0x2c5af2459d0>",
      "text/html": "\n        <iframe\n            width=\"100%\"\n            height=\"650\"\n            src=\"http://127.0.0.1:8053/\"\n            frameborder=\"0\"\n            allowfullscreen\n            \n        ></iframe>\n        "
     },
     "metadata": {},
     "output_type": "display_data"
    }
   ],
   "source": [
    "from dash import Dash, dcc, html, Input, Output\n",
    "import dash_bootstrap_components as dbc\n",
    "import plotly.express as px\n",
    "import pandas as pd\n",
    "\n",
    "# Load the data\n",
    "df = pd.read_csv(\"CleanedData/player_stats_cleaned.csv\")\n",
    "\n",
    "# Initialize the Dash app\n",
    "app = Dash(__name__, external_stylesheets=[dbc.themes.BOOTSTRAP])\n",
    "\n",
    "# Define the layout\n",
    "app.layout = dbc.Container([\n",
    "    dbc.Row([\n",
    "        dbc.Col([\n",
    "            dcc.Dropdown(\n",
    "                id='team-dropdown',\n",
    "                options=[{'label': team, 'value': team} for team in df['team'].dropna().unique()],\n",
    "                multi=True,\n",
    "                placeholder=\"Select teams\",\n",
    "            ),\n",
    "            dcc.Dropdown(\n",
    "                id='player-dropdown',\n",
    "                options=[],\n",
    "                multi=True,\n",
    "                placeholder=\"Select players\",\n",
    "            ),\n",
    "        ], width=4),\n",
    "        dbc.Col([\n",
    "            dcc.Graph(id='scatter-plot'),\n",
    "        ], width=8),\n",
    "    ]),\n",
    "    dbc.Row([\n",
    "        dbc.Col(dcc.Graph(id='bar-chart'), width=6),\n",
    "        dbc.Col(dcc.Graph(id='box-plot'), width=6),\n",
    "    ])\n",
    "], fluid=True)\n",
    "\n",
    "# Callback to update player options based on selected team\n",
    "@app.callback(\n",
    "    Output('player-dropdown', 'options'),\n",
    "    [Input('team-dropdown', 'value')]\n",
    ")\n",
    "def update_player_dropdown(selected_teams):\n",
    "    if selected_teams:\n",
    "        filtered_df = df[df['team'].isin(selected_teams)]\n",
    "    else:\n",
    "        filtered_df = df\n",
    "    return [{'label': player, 'value': player} for player in filtered_df['player'].unique()]\n",
    "\n",
    "# Callback to update scatter plot and additional visualizations\n",
    "@app.callback(\n",
    "    [Output('scatter-plot', 'figure'),\n",
    "     Output('bar-chart', 'figure'),\n",
    "     Output('box-plot', 'figure')],\n",
    "    [Input('team-dropdown', 'value'),\n",
    "     Input('player-dropdown', 'value')]\n",
    ")\n",
    "def update_visualizations(selected_teams, selected_players):\n",
    "    filtered_df = df\n",
    "\n",
    "    if selected_teams:\n",
    "        filtered_df = filtered_df[filtered_df['team'].isin(selected_teams)]\n",
    "    if selected_players:\n",
    "        filtered_df = filtered_df[filtered_df['player'].isin(selected_players)]\n",
    "\n",
    "    # Scatter plot for goals vs assists\n",
    "    scatter_fig = px.scatter(\n",
    "        filtered_df,\n",
    "        x='goals',\n",
    "        y='assists',\n",
    "        color='team',\n",
    "        hover_data=['player'],\n",
    "        title='Goals vs Assists by Player'\n",
    "    )\n",
    "\n",
    "    # Bar chart for games played\n",
    "    bar_fig = px.bar(\n",
    "        filtered_df,\n",
    "        x='player',\n",
    "        y='games',\n",
    "        color='team',\n",
    "        title='Games Played by Player'\n",
    "    )\n",
    "\n",
    "    # Box plot for aerials won\n",
    "    box_fig = px.box(\n",
    "        filtered_df,\n",
    "        y='aerials_won',\n",
    "        color='team',\n",
    "        title='Aerials Won Distribution by Team'\n",
    "    )\n",
    "\n",
    "    return scatter_fig, bar_fig, box_fig\n",
    "\n",
    "# Run the app\n",
    "if __name__ == '__main__':\n",
    "    app.run_server(debug=True, port=8053)\n"
   ]
  },
  {
   "cell_type": "code",
   "execution_count": null,
   "outputs": [],
   "source": [],
   "metadata": {
    "collapsed": false
   },
   "id": "db07a2872f922e0a"
  }
 ],
 "metadata": {
  "kernelspec": {
   "display_name": "Python 3",
   "language": "python",
   "name": "python3"
  },
  "language_info": {
   "codemirror_mode": {
    "name": "ipython",
    "version": 2
   },
   "file_extension": ".py",
   "mimetype": "text/x-python",
   "name": "python",
   "nbconvert_exporter": "python",
   "pygments_lexer": "ipython2",
   "version": "2.7.6"
  }
 },
 "nbformat": 4,
 "nbformat_minor": 5
}
