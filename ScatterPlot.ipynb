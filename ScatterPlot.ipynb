{
 "cells": [
  {
   "cell_type": "code",
   "source": [
    "from dash import Dash, dcc, html, Input, Output\n",
    "import dash_bootstrap_components as dbc\n",
    "import plotly.express as px\n",
    "import pandas as pd\n",
    "\n",
    "# Load your data\n",
    "df_radar = pd.read_csv(\"CleanedData/player_radar.csv\")\n",
    "df_stats = pd.read_csv(\"CleanedData/player_stats_cleaned.csv\")\n",
    "\n",
    "# Merge the datasets on the 'player' column without adding suffixes\n",
    "merged_df = pd.merge(df_stats, df_radar, on='player', how='outer', suffixes=('', '_drop'))\n",
    "\n",
    "# Drop columns with duplicate names from the second dataframe\n",
    "df = merged_df.drop(merged_df.filter(regex='_drop$').columns, axis=1)\n",
    "\n",
    "\n",
    "df.drop(columns=['shots_percentage','passes_percentage'], inplace=True)\n",
    "\n"
   ],
   "metadata": {
    "collapsed": false,
    "ExecuteTime": {
     "end_time": "2024-05-21T20:31:38.402146Z",
     "start_time": "2024-05-21T20:31:37.798045Z"
    }
   },
   "id": "a60b4abfb586a915",
   "outputs": [],
   "execution_count": 1
  },
  {
   "cell_type": "code",
   "id": "initial_id",
   "metadata": {
    "collapsed": true,
    "ExecuteTime": {
     "end_time": "2024-05-21T20:50:09.327111Z",
     "start_time": "2024-05-21T20:50:09.043761Z"
    }
   },
   "source": [
    "\n",
    "# Initialize the Dash app\n",
    "app = Dash(__name__, external_stylesheets=[dbc.themes.BOOTSTRAP])\n",
    "\n",
    "app.layout = html.Div([\n",
    "    dbc.Row([\n",
    "        dbc.Col(html.Div([\n",
    "            dcc.Dropdown(\n",
    "                id='team-dropdown',\n",
    "                options=[{'label': team, 'value': team} for team in df['team'].dropna().unique()],\n",
    "                multi=True,\n",
    "                placeholder=\"Filter by Team\",\n",
    "            )\n",
    "        ], style={'margin': '10px'}), width=4),\n",
    "        \n",
    "        dbc.Col(html.Div([\n",
    "            dcc.Dropdown(\n",
    "                id='position-dropdown',\n",
    "                options=[{'label': position, 'value': position} for position in df['position'].dropna().unique()],\n",
    "                multi=False,\n",
    "                placeholder=\"Filter by Position\",\n",
    "                searchable=False\n",
    "            )\n",
    "        ], style={'margin': '10px'}), width=4),\n",
    "\n",
    "        dbc.Col(html.Div([\n",
    "            dcc.Dropdown(\n",
    "                id='player-dropdown',\n",
    "                options=[{'label': player, 'value': player} for player in df['player'].dropna().unique()],\n",
    "                multi=True,\n",
    "                placeholder=\"Select Players\",\n",
    "            )\n",
    "        ], style={'margin': '10px'}), width=8),\n",
    "        \n",
    "        dbc.Col(html.Div([\n",
    "            dcc.Dropdown(\n",
    "                id='metric_x-dropdown',\n",
    "                options=df.columns[4:], value='shots',\n",
    "                multi=False,\n",
    "                placeholder=\"Select a metric for x-axis\",\n",
    "                clearable=False,\n",
    "            )\n",
    "        ], style={'margin': '10px'}), width=4),\n",
    "        \n",
    "        dbc.Col(html.Div([\n",
    "            dcc.Dropdown(\n",
    "                id='metric_y-dropdown',\n",
    "                options=df.columns[4:], value='xg',\n",
    "                multi=False,\n",
    "                placeholder=\"Select a metric for y-axis\",\n",
    "                clearable=False,\n",
    "            )\n",
    "        ], style={'margin': '10px'}), width=4),\n",
    "    ]),\n",
    "\n",
    "    dbc.Row([\n",
    "        dbc.Col(dcc.Graph(id='scatter-plot'), width=12)\n",
    "    ])\n",
    "])\n",
    "\n",
    "\n",
    "@app.callback(\n",
    "  [Output('metric_x-dropdown', 'options'),\n",
    "   Output('metric_y-dropdown', 'options')],\n",
    "  [Input('position-dropdown', 'value')]\n",
    ")\n",
    "\n",
    "def update_metric_dropdowns(selected_position):\n",
    "  # Get all unique metrics available for the selected position\n",
    "  if selected_position:\n",
    "    available_metrics = df[df['position'] == selected_position].columns[4:].tolist()\n",
    "    options = [{'label': metric, 'value': metric} for metric in available_metrics]\n",
    "  else:\n",
    "    options = df.columns[4:]  # Empty options if no position selected\n",
    "  return options, options  # Return options for both dropdowns\n",
    "\n",
    "\n",
    "@app.callback(\n",
    "  Output('player-dropdown', 'options'),\n",
    "  [Input('team-dropdown', 'value'),\n",
    "   Input('position-dropdown', 'value')]\n",
    ")\n",
    "\n",
    "def update_player_dropdown(selected_teams, selected_position):\n",
    "    # Filter data based on selections\n",
    "    filtered_df = df.copy()  # Make a copy to avoid modifying original df\n",
    "    if selected_teams:\n",
    "        filtered_df = filtered_df[filtered_df['team'].isin(selected_teams)]\n",
    "    if selected_position:\n",
    "        filtered_df = filtered_df[filtered_df['position'] == selected_position]\n",
    "  \n",
    "  # Generate player dropdown options\n",
    "    player_options = [{'label': player, 'value': player} for player in filtered_df['player'].dropna().unique()]\n",
    "    return player_options\n",
    "\n",
    "\n",
    "@app.callback(\n",
    "    Output('scatter-plot', 'figure'),\n",
    "    [Input('team-dropdown', 'value'),\n",
    "     Input('position-dropdown', 'value'),\n",
    "     Input('player-dropdown', 'value'),\n",
    "     Input('metric_x-dropdown', 'value'),\n",
    "     Input('metric_y-dropdown', 'value')]\n",
    ")\n",
    "\n",
    "\n",
    "def update_scatter_plot(selected_teams, selected_positions, selected_players, selected_metric_x=\"xg\", selected_metric_y='shots'):\n",
    "    # Filter data based on selections (handle no selection cases)\n",
    "    filtered_df = df.copy()\n",
    "    if selected_teams:\n",
    "        filtered_df = filtered_df[filtered_df['team'].isin(selected_teams)]\n",
    "    if selected_positions:\n",
    "        filtered_df = filtered_df[filtered_df['position'] == selected_positions]\n",
    "    if selected_players:\n",
    "        filtered_df = filtered_df[filtered_df['player'].isin(selected_players)]\n",
    "\n",
    "    # Generate the scatter plot\n",
    "    fig = px.scatter(\n",
    "        filtered_df,\n",
    "        x=selected_metric_x,\n",
    "        y=selected_metric_y,\n",
    "        color='team',  # Color by team\n",
    "        hover_name='player',  # Show player name on hover\n",
    "        title=f'{selected_metric_x} vs.{selected_metric_y} for Selected Players and Teams'\n",
    "    )\n",
    "    \n",
    "    fig.update_layout(transition_duration=500)\n",
    "    return fig\n",
    "\n",
    "\n",
    "# Run the app\n",
    "# Run the app\n",
    "if __name__ == '__main__':\n",
    "    app.run_server(debug=True, port=8053)\n",
    "\n"
   ],
   "outputs": [
    {
     "data": {
      "text/plain": [
       "<IPython.lib.display.IFrame at 0x13dcf3970>"
      ],
      "text/html": [
       "\n",
       "        <iframe\n",
       "            width=\"100%\"\n",
       "            height=\"650\"\n",
       "            src=\"http://127.0.0.1:8053/\"\n",
       "            frameborder=\"0\"\n",
       "            allowfullscreen\n",
       "            \n",
       "        ></iframe>\n",
       "        "
      ]
     },
     "metadata": {},
     "output_type": "display_data"
    }
   ],
   "execution_count": 16
  },
  {
   "cell_type": "code",
   "source": [
    "import threading\n",
    "from IPython.display import display, HTML\n",
    "\n",
    "# Function to run the Dash app\n",
    "def run_dash():\n",
    "    app.run_server(debug=False, use_reloader=False)\n",
    "\n",
    "# Start the Dash app in a separate thread\n",
    "threading.Thread(target=run_dash).start()\n",
    "\n",
    "# Display the link to open the app in the browser\n",
    "display(HTML(f\"\"\"\n",
    "    <a href=\"http://127.0.0.1:8053/\" target=\"_blank\">\n",
    "        Open Dash App\n",
    "    </a>\n",
    "\"\"\"))"
   ],
   "metadata": {
    "collapsed": false,
    "ExecuteTime": {
     "end_time": "2024-05-21T20:50:10.024007Z",
     "start_time": "2024-05-21T20:50:10.017468Z"
    }
   },
   "id": "e9d9476e95f09958",
   "outputs": [
    {
     "data": {
      "text/plain": [
       "<IPython.core.display.HTML object>"
      ],
      "text/html": [
       "\n",
       "    <a href=\"http://127.0.0.1:8053/\" target=\"_blank\">\n",
       "        Open Dash App\n",
       "    </a>\n"
      ]
     },
     "metadata": {},
     "output_type": "display_data"
    }
   ],
   "execution_count": 17
  },
  {
   "metadata": {},
   "cell_type": "code",
   "source": "",
   "id": "e58a79d1143830f2",
   "outputs": [],
   "execution_count": null
  },
  {
   "metadata": {},
   "cell_type": "raw",
   "source": [
    "fig.add_trace(go.Scatterpolar(\n",
    "    r=[4, 3, 2.5, 1, 2],\n",
    "    theta=categories,\n",
    "    fill='toself',\n",
    "    name='Product B',\n",
    "    customdata=[10, 9, 8, 7, 6],\n",
    "    hovertemplate='<b>%{theta}</b><br>' +\n",
    "                  'Value: %{r}<br>' +\n",
    "                  'Custom data: %{customdata}<extra></extra>'\n",
    "))\n",
    "\n",
    "fig.update_layout(\n",
    "    polar=dict(\n",
    "        radialaxis=dict(\n",
    "            visible=True,\n",
    "            range=[0, 5],\n",
    "            showticklabels=False\n",
    "        ),\n",
    "        angularaxis=dict(\n",
    "            showticklabels=False\n",
    "        )\n",
    "    ),\n",
    "    showlegend=False\n",
    ")\n"
   ],
   "id": "9a5bd9c718fde990",
   "outputs": null,
   "execution_count": null
  }
 ],
 "metadata": {
  "kernelspec": {
   "display_name": "Python 3",
   "language": "python",
   "name": "python3"
  },
  "language_info": {
   "codemirror_mode": {
    "name": "ipython",
    "version": 2
   },
   "file_extension": ".py",
   "mimetype": "text/x-python",
   "name": "python",
   "nbconvert_exporter": "python",
   "pygments_lexer": "ipython2",
   "version": "2.7.6"
  }
 },
 "nbformat": 4,
 "nbformat_minor": 5
}
