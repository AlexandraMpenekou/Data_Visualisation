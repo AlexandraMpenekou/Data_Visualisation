{
 "cells": [
  {
   "cell_type": "code",
   "source": [
    "from dash import Dash, dcc, html, Input, Output\n",
    "import dash_bootstrap_components as dbc\n",
    "import plotly.graph_objects as go\n",
    "import pandas as pd\n",
    "\n",
    "# Correctly load the data from CSV\n",
    "df = pd.read_csv(\"CleanedData/player_stats_cleaned.csv\")  # Make sure the path is correct\n",
    "\n",
    "# Build App\n",
    "app = Dash(__name__, external_stylesheets=[dbc.themes.SLATE])\n",
    "\n",
    "app.layout = html.Div([\n",
    "    dbc.Card(\n",
    "        dbc.CardBody([\n",
    "            dbc.Row([\n",
    "                dbc.Col(html.Div([\n",
    "                    dbc.Card(\n",
    "                        dbc.CardBody([\n",
    "                            html.Div([\n",
    "                                html.H2(\"Select Players\"),\n",
    "                            ], style={'textAlign': 'center'})\n",
    "                        ])\n",
    "                    ),\n",
    "                ]), width=12),\n",
    "            ], align='center'),\n",
    "            html.Br(),\n",
    "            dbc.Row([\n",
    "                dbc.Col([\n",
    "                    dcc.Dropdown(\n",
    "                        id='player-dropdown',\n",
    "                        options=[{'label': i, 'value': i} for i in df['player'].unique()],\n",
    "                        multi=True,\n",
    "                        placeholder=\"Select players\",\n",
    "                        style={\"color\": \"#000\"}\n",
    "                    )\n",
    "                ], width=12),\n",
    "            ], align='center'),\n",
    "            html.Br(),\n",
    "            dbc.Row([\n",
    "                dbc.Col(dcc.Graph(id='stacked-bar-chart'), width=12),\n",
    "            ], align='center'),\n",
    "        ]), color='dark'\n",
    "    )\n",
    "])\n",
    "\n",
    "@app.callback(\n",
    "    Output('stacked-bar-chart', 'figure'),\n",
    "    [Input('player-dropdown', 'value')]\n",
    ")\n",
    "def update_graph(selected_players):\n",
    "    if not selected_players:\n",
    "        return go.Figure()\n",
    "\n",
    "    fig = go.Figure()\n",
    "    # Control the legend entries\n",
    "    first_player = True  # Flag to show legend only for the first player\n",
    "    for player in selected_players:\n",
    "        filtered_df = df[df['player'] == player]\n",
    "        goals_sum = filtered_df['goals'].sum()\n",
    "        assists_sum = filtered_df['assists'].sum()\n",
    "\n",
    "        fig.add_trace(go.Bar(\n",
    "            name='Goals',\n",
    "            x=[player],\n",
    "            y=[goals_sum],\n",
    "            marker_color='red',\n",
    "            showlegend=first_player  # Show legend only for the first player\n",
    "        ))\n",
    "        fig.add_trace(go.Bar(\n",
    "            name='Assists',\n",
    "            x=[player],\n",
    "            y=[assists_sum],\n",
    "            marker_color='blue',\n",
    "            showlegend=first_player  # Show legend only for the first player\n",
    "        ))\n",
    "        first_player = False  # Update flag after the first player\n",
    "\n",
    "    fig.update_layout(\n",
    "        barmode='stack',\n",
    "        title='Player Goals and Assists',\n",
    "        xaxis_title='Player',\n",
    "        yaxis_title='Count',\n",
    "        legend_title='Metric'\n",
    "    )\n",
    "    return fig\n",
    "\n",
    "# Run the app\n",
    "if __name__ == '__main__':\n",
    "    app.run_server(debug=True)\n"
   ],
   "metadata": {
    "collapsed": false,
    "ExecuteTime": {
     "end_time": "2024-05-20T12:19:52.782813Z",
     "start_time": "2024-05-20T12:19:52.517027Z"
    }
   },
   "id": "4754637204785717",
   "outputs": [
    {
     "data": {
      "text/plain": [
       "<IPython.lib.display.IFrame at 0x10c0abdc0>"
      ],
      "text/html": [
       "\n",
       "        <iframe\n",
       "            width=\"100%\"\n",
       "            height=\"650\"\n",
       "            src=\"http://127.0.0.1:8050/\"\n",
       "            frameborder=\"0\"\n",
       "            allowfullscreen\n",
       "            \n",
       "        ></iframe>\n",
       "        "
      ]
     },
     "metadata": {},
     "output_type": "display_data"
    }
   ],
   "execution_count": 6
  },
  {
   "cell_type": "code",
   "source": [
    "import threading\n",
    "from IPython.display import display, HTML\n",
    "\n",
    "# Function to run the Dash app\n",
    "def run_dash():\n",
    "    app.run_server(debug=False, use_reloader=False)\n",
    "\n",
    "# Start the Dash app in a separate thread\n",
    "threading.Thread(target=run_dash).start()\n",
    "\n",
    "# Display the link to open the app in the browser\n",
    "display(HTML(f\"\"\"\n",
    "    <a href=\"http://127.0.0.1:8050/\" target=\"_blank\">\n",
    "        Open Dash App\n",
    "    </a>\n",
    "\"\"\"))"
   ],
   "metadata": {
    "collapsed": false,
    "ExecuteTime": {
     "end_time": "2024-05-20T12:20:07.391319Z",
     "start_time": "2024-05-20T12:20:07.374368Z"
    }
   },
   "id": "21d758cbf5684286",
   "outputs": [
    {
     "data": {
      "text/plain": [
       "<IPython.core.display.HTML object>"
      ],
      "text/html": [
       "\n",
       "    <a href=\"http://127.0.0.1:8050/\" target=\"_blank\">\n",
       "        Open Dash App\n",
       "    </a>\n"
      ]
     },
     "metadata": {},
     "output_type": "display_data"
    }
   ],
   "execution_count": 7
  },
  {
   "metadata": {},
   "cell_type": "code",
   "outputs": [],
   "execution_count": null,
   "source": "",
   "id": "67d3625a76cc1717"
  }
 ],
 "metadata": {
  "kernelspec": {
   "display_name": "Python 3",
   "language": "python",
   "name": "python3"
  },
  "language_info": {
   "codemirror_mode": {
    "name": "ipython",
    "version": 2
   },
   "file_extension": ".py",
   "mimetype": "text/x-python",
   "name": "python",
   "nbconvert_exporter": "python",
   "pygments_lexer": "ipython2",
   "version": "2.7.6"
  }
 },
 "nbformat": 4,
 "nbformat_minor": 5
}
