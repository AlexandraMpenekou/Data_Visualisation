{
 "cells": [
  {
   "cell_type": "code",
   "execution_count": null,
   "outputs": [],
   "source": [],
   "metadata": {
    "collapsed": false
   },
   "id": "a60b4abfb586a915"
  },
  {
   "cell_type": "code",
   "execution_count": 1,
   "id": "initial_id",
   "metadata": {
    "collapsed": true,
    "ExecuteTime": {
     "end_time": "2024-05-21T20:40:43.030496900Z",
     "start_time": "2024-05-21T20:40:41.939498500Z"
    }
   },
   "outputs": [
    {
     "data": {
      "text/plain": "<IPython.lib.display.IFrame at 0x17719411710>",
      "text/html": "\n        <iframe\n            width=\"100%\"\n            height=\"650\"\n            src=\"http://127.0.0.1:8052/\"\n            frameborder=\"0\"\n            allowfullscreen\n            \n        ></iframe>\n        "
     },
     "metadata": {},
     "output_type": "display_data"
    }
   ],
   "source": [
    "from dash import Dash, dcc, html, Input, Output\n",
    "import dash_bootstrap_components as dbc\n",
    "import plotly.express as px\n",
    "import pandas as pd\n",
    "\n",
    "# Load the dataset\n",
    "df = pd.read_csv(\"CleanedData/player_stats_cleaned.csv\")\n",
    "\n",
    "# Initialize the Dash app\n",
    "app = Dash(__name__, external_stylesheets=[dbc.themes.BOOTSTRAP])\n",
    "\n",
    "app.layout = html.Div([\n",
    "    dbc.Row([\n",
    "        dbc.Col(html.Div([\n",
    "            dcc.Dropdown(\n",
    "                id='team-dropdown',\n",
    "                options=[{'label': team, 'value': team} for team in df['team'].dropna().unique()],\n",
    "                multi=True,\n",
    "                placeholder=\"Filter by Team\",\n",
    "            )\n",
    "        ], style={'margin': '10px'}), width=4),\n",
    "\n",
    "        dbc.Col(html.Div([\n",
    "            dcc.Dropdown(\n",
    "                id='player-dropdown',\n",
    "                options=[{'label': player, 'value': player} for player in df['player'].dropna().unique()],\n",
    "                multi=True,\n",
    "                placeholder=\"Select Players\",\n",
    "            )\n",
    "        ], style={'margin': '10px'}), width=8),\n",
    "    ]),\n",
    "\n",
    "    dbc.Row([\n",
    "        dbc.Col(dcc.Graph(id='scatter-plot'), width=12)\n",
    "    ])\n",
    "])\n",
    "\n",
    "@app.callback(\n",
    "    Output('scatter-plot', 'figure'),\n",
    "    [Input('team-dropdown', 'value'),\n",
    "     Input('player-dropdown', 'value')]\n",
    ")\n",
    "def update_scatter_plot(selected_teams, selected_players):\n",
    "    # Filter data based on selections\n",
    "    filtered_df = df\n",
    "    if selected_teams:\n",
    "        filtered_df = filtered_df[filtered_df['team'].isin(selected_teams)]\n",
    "    if selected_players:\n",
    "        filtered_df = filtered_df[filtered_df['player'].isin(selected_players)]\n",
    "    \n",
    "    # Generate the scatter plot\n",
    "    fig = px.scatter(\n",
    "        filtered_df,\n",
    "        x='goals',\n",
    "        y='assists',\n",
    "        color='team',  # Color by team\n",
    "        hover_name='player',  # Show player name on hover\n",
    "        title='Goals vs. Assists for Selected Players and Teams'\n",
    "    )\n",
    "    \n",
    "    fig.update_layout(transition_duration=500)\n",
    "    return fig\n",
    "\n",
    "# Run the app\n",
    "if __name__ == '__main__':\n",
    "    app.run_server(debug=True, port=8052)\n",
    "\n"
   ]
  },
  {
   "cell_type": "code",
   "execution_count": null,
   "outputs": [],
   "source": [],
   "metadata": {
    "collapsed": false
   },
   "id": "e9d9476e95f09958"
  }
 ],
 "metadata": {
  "kernelspec": {
   "display_name": "Python 3",
   "language": "python",
   "name": "python3"
  },
  "language_info": {
   "codemirror_mode": {
    "name": "ipython",
    "version": 2
   },
   "file_extension": ".py",
   "mimetype": "text/x-python",
   "name": "python",
   "nbconvert_exporter": "python",
   "pygments_lexer": "ipython2",
   "version": "2.7.6"
  }
 },
 "nbformat": 4,
 "nbformat_minor": 5
}
