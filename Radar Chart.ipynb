{
 "cells": [
  {
   "cell_type": "code",
   "execution_count": 2,
   "id": "initial_id",
   "metadata": {
    "collapsed": true,
    "ExecuteTime": {
     "end_time": "2024-05-20T12:23:02.629809400Z",
     "start_time": "2024-05-20T12:23:02.567639500Z"
    }
   },
   "outputs": [
    {
     "data": {
      "text/plain": "<IPython.lib.display.IFrame at 0x1e545e5c7d0>",
      "text/html": "\n        <iframe\n            width=\"100%\"\n            height=\"650\"\n            src=\"http://127.0.0.1:8051/\"\n            frameborder=\"0\"\n            allowfullscreen\n            \n        ></iframe>\n        "
     },
     "metadata": {},
     "output_type": "display_data"
    }
   ],
   "source": [
    "import pandas as pd\n",
    "from dash import Dash, dcc, html, Input, Output\n",
    "import plotly.graph_objects as go\n",
    "import dash_bootstrap_components as dbc\n",
    "\n",
    "# Load data\n",
    "stats_df = pd.read_csv(\"CleanedData/player_stats_cleaned.csv\")\n",
    "radar_df = pd.read_csv(\"CleanedData/player_radar.csv\")\n",
    "\n",
    "# Merge the necessary parts of datasets\n",
    "df = pd.merge(stats_df[['player', 'goals', 'aerials_won']], radar_df[['player', 'passes_percentage', 'shots_percentage', 'defensive']], on='player')\n",
    "\n",
    "# Calculate tournament averages\n",
    "average_data = df[['goals', 'aerials_won', 'passes_percentage', 'shots_percentage', 'defensive']].mean().to_dict()\n",
    "\n",
    "# Initialize the Dash app\n",
    "app = Dash(__name__, external_stylesheets=[dbc.themes.BOOTSTRAP])\n",
    "\n",
    "app.layout = html.Div([\n",
    "    dbc.Row([\n",
    "        dbc.Col([\n",
    "            dcc.Dropdown(\n",
    "                id='player-one-dropdown',\n",
    "                options=[{'label': player, 'value': player} for player in df['player'].unique()],\n",
    "                value=None,\n",
    "                placeholder=\"Select the first player\"\n",
    "            ),\n",
    "            dcc.Dropdown(\n",
    "                id='player-two-dropdown',\n",
    "                options=[{'label': player, 'value': player} for player in df['player'].unique()],\n",
    "                value=None,\n",
    "                placeholder=\"Select the second player\"\n",
    "            )\n",
    "        ], width=3),\n",
    "        dbc.Col(dcc.Graph(id='radar-chart'), width=6),\n",
    "        dbc.Col(html.Div(id='metric-colors'), width=3)\n",
    "    ], justify=\"center\")\n",
    "])\n",
    "\n",
    "@app.callback(\n",
    "    Output('radar-chart', 'figure'),\n",
    "    [Input('player-one-dropdown', 'value'),\n",
    "     Input('player-two-dropdown', 'value')]\n",
    ")\n",
    "def update_radar_chart(player_one, player_two):\n",
    "    categories = ['Goals', 'Aerials Won', 'Passes Percentage', 'Shots Percentage', 'Defensive']\n",
    "\n",
    "    fig = go.Figure()\n",
    "\n",
    "    if player_one:\n",
    "        data_one = df[df['player'] == player_one].iloc[0]\n",
    "        fig.add_trace(go.Scatterpolar(\n",
    "            r=[data_one['goals'], data_one['aerials_won'], data_one['passes_percentage'], data_one['shots_percentage'], data_one['defensive']],\n",
    "            theta=categories,\n",
    "            fill='toself',\n",
    "            name=player_one\n",
    "        ))\n",
    "\n",
    "    if player_two:\n",
    "        data_two = df[df['player'] == player_two].iloc[0]\n",
    "        fig.add_trace(go.Scatterpolar(\n",
    "            r=[data_two['goals'], data_two['aerials_won'], data_two['passes_percentage'], data_two['shots_percentage'], data_two['defensive']],\n",
    "            theta=categories,\n",
    "            fill='toself',\n",
    "            name=player_two\n",
    "        ))\n",
    "\n",
    "    # Add tournament average\n",
    "    fig.add_trace(go.Scatterpolar(\n",
    "        r=[average_data['goals'], average_data['aerials_won'], average_data['passes_percentage'], average_data['shots_percentage'], average_data['defensive']],\n",
    "        theta=categories,\n",
    "        fill='toself',\n",
    "        name='Tournament Average'\n",
    "    ))\n",
    "\n",
    "    fig.update_layout(\n",
    "        polar=dict(\n",
    "            radialaxis=dict(\n",
    "                visible=True,\n",
    "                range=[0, 1]\n",
    "            )),\n",
    "        showlegend=True\n",
    "    )\n",
    "\n",
    "    return fig\n",
    "\n",
    "@app.callback(\n",
    "    Output('metric-colors', 'children'),\n",
    "    [Input('radar-chart', 'figure')]\n",
    ")\n",
    "def update_metric_colors(figure):\n",
    "    # Generate color information based on the figure\n",
    "    return html.Ul([html.Li(f\"{trace['name']} - {trace['line']['color']}\", style={'color': trace['line']['color']}) for trace in figure['data']])\n",
    "\n",
    "# Run the app\n",
    "if __name__ == '__main__':\n",
    "    app.run_server(debug=True, port=8051)\n"
   ]
  },
  {
   "cell_type": "code",
   "execution_count": null,
   "outputs": [],
   "source": [],
   "metadata": {
    "collapsed": false
   },
   "id": "37d3d2f5038ed988"
  }
 ],
 "metadata": {
  "kernelspec": {
   "display_name": "Python 3",
   "language": "python",
   "name": "python3"
  },
  "language_info": {
   "codemirror_mode": {
    "name": "ipython",
    "version": 2
   },
   "file_extension": ".py",
   "mimetype": "text/x-python",
   "name": "python",
   "nbconvert_exporter": "python",
   "pygments_lexer": "ipython2",
   "version": "2.7.6"
  }
 },
 "nbformat": 4,
 "nbformat_minor": 5
}
