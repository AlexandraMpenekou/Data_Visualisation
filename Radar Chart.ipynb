{
 "cells": [
  {
   "cell_type": "code",
   "execution_count": 4,
   "id": "initial_id",
   "metadata": {
    "collapsed": true,
    "ExecuteTime": {
     "end_time": "2024-05-21T17:48:20.924642500Z",
     "start_time": "2024-05-21T17:48:20.800204200Z"
    }
   },
   "outputs": [
    {
     "data": {
      "text/plain": "<IPython.lib.display.IFrame at 0x266cc874c90>",
      "text/html": "\n        <iframe\n            width=\"100%\"\n            height=\"650\"\n            src=\"http://127.0.0.1:8051/\"\n            frameborder=\"0\"\n            allowfullscreen\n            \n        ></iframe>\n        "
     },
     "metadata": {},
     "output_type": "display_data"
    }
   ],
   "source": [
    "import pandas as pd\n",
    "import plotly.graph_objects as go\n",
    "from dash import Dash, html, dcc, Input, Output\n",
    "import numpy as np\n",
    "\n",
    "# Load your data\n",
    "df_radar = pd.read_csv(\"CleanedData/player_radar.csv\")\n",
    "df_stats = pd.read_csv(\"CleanedData/player_stats_cleaned.csv\")\n",
    "\n",
    "# Merge dataframes on 'player' after normalizing the 'player' column\n",
    "df_merged = pd.merge(df_radar, df_stats, on='player', how='outer')\n",
    "\n",
    "# Calculate performance metrics\n",
    "df_merged['passing_commulative_performance'] = (\n",
    "    0.05*df_merged['passes_completed'] +\n",
    "    1.5*df_merged['assists_x'] +\n",
    "    1.5*df_merged['assisted_shots'] +\n",
    "    0.2*df_merged['passes_into_final_third'] +\n",
    "    0.4*df_merged['passes_into_penalty_area'] +\n",
    "    0.3*df_merged['crosses_into_penalty_area'] +\n",
    "    0.1*df_merged['progressive_passes']\n",
    ")\n",
    "\n",
    "df_merged['shooting_commulative_performance'] = (\n",
    "    3*df_merged['goals_x'] +\n",
    "    0.3*df_merged['shots_on_target'] +\n",
    "    0.1*df_merged['shots'] +\n",
    "    0.2*df_merged['shots_free_kicks'] +\n",
    "    df_merged['pens_made_x']\n",
    ")\n",
    "\n",
    "df_merged['defence_commulative_performance'] = (\n",
    "    -0.2*df_merged['dribbled_past'] -\n",
    "    df_merged['errors'] +\n",
    "    0.5*df_merged['blocks'] +\n",
    "    0.75*df_merged['blocked_shots'] +\n",
    "    0.75*df_merged['blocked_passes'] +\n",
    "    df_merged['tackles_interceptions'] +\n",
    "    0.2*df_merged['clearances']\n",
    ")\n",
    "\n",
    "df_merged['misc_commulative_performance'] = (\n",
    "    -0.25*df_merged['cards_yellow'] -\n",
    "    1*df_merged['cards_red'] -\n",
    "    0.1*df_merged['fouls'] +\n",
    "    0.25*df_merged['interceptions_x'] +\n",
    "    0.3*df_merged['tackles_won_x'] +\n",
    "    1.5*df_merged['pens_won'] -\n",
    "    1.5*df_merged['pens_conceded'] +\n",
    "    0.25*df_merged['ball_recoveries'] -\n",
    "    3*df_merged['own_goals'] -\n",
    "    0.25*df_merged['aerials_lost'] +\n",
    "    0.25*df_merged['aerials_won']\n",
    ")\n",
    "\n",
    "app = Dash(__name__)\n",
    "\n",
    "app.layout = html.Div([\n",
    "    dcc.Dropdown(\n",
    "        id='team-dropdown',\n",
    "        options=[{'label': team, 'value': team} for team in df_merged['team_x'].dropna().unique()],\n",
    "        placeholder=\"Select a team\",\n",
    "        clearable=False\n",
    "    ),\n",
    "    dcc.Dropdown(\n",
    "        id='player-dropdown',\n",
    "        placeholder=\"Select a player\",\n",
    "        clearable=False\n",
    "    ),\n",
    "    dcc.Graph(id='radar-chart', style={\"height\": \"90vh\"})  # Adjust the height of the radar chart\n",
    "])\n",
    "\n",
    "@app.callback(\n",
    "    Output('player-dropdown', 'options'),\n",
    "    Input('team-dropdown', 'value')\n",
    ")\n",
    "def set_player_options(selected_team):\n",
    "    filtered_df = df_merged[df_merged['team_x'] == selected_team]\n",
    "    return [{'label': player, 'value': player} for player in filtered_df['player'].unique()]\n",
    "\n",
    "@app.callback(\n",
    "    Output('radar-chart', 'figure'),\n",
    "    [Input('team-dropdown', 'value'),\n",
    "     Input('player-dropdown', 'value')]\n",
    ")\n",
    "def update_radar_chart(selected_team, selected_player):\n",
    "    if not selected_team:\n",
    "        return go.Figure()\n",
    "\n",
    "    filtered_df = df_merged[df_merged['team_x'] == selected_team]\n",
    "    categories = [\n",
    "        'defence_commulative_performance',\n",
    "        'passing_commulative_performance',\n",
    "        'shooting_commulative_performance',\n",
    "        'misc_commulative_performance',\n",
    "        'defence_commulative_performance'  # Repeat the first category to close the radar chart loop\n",
    "    ]\n",
    "    categories_labels = ['Defence', 'Passing', 'Shooting', 'Miscellaneous', 'Defence']\n",
    "\n",
    "    radial_ticks = np.arange(0, 60, 2)  # Adjust tick values \n",
    "\n",
    "    fig = go.Figure()\n",
    "\n",
    "    for player in filtered_df['player'].unique():\n",
    "        player_data = filtered_df[filtered_df['player'] == player]\n",
    "        fig.add_trace(go.Scatterpolar(\n",
    "            r=[player_data[cat].values[0] for cat in categories],\n",
    "            theta=categories_labels,\n",
    "            name=player,\n",
    "            mode='lines',\n",
    "            line_color='grey' if player != selected_player else 'green',\n",
    "            line_shape='spline',  # Smoothing the lines\n",
    "            line_smoothing=0.8,  # Adjust the smoothness\n",
    "            opacity=0.65 if player != selected_player else 1,  # Highlight selected player\n",
    "            line_width=1 if player != selected_player else 3  # Thicker line for selected player\n",
    "        ))\n",
    "\n",
    "    fig.update_layout(\n",
    "        polar=dict(\n",
    "            radialaxis=dict(visible=True, tickvals=radial_ticks),\n",
    "            bgcolor='white',\n",
    "            radialaxis_tickfont_color='darkgrey',\n",
    "            angularaxis_color='grey',\n",
    "            angularaxis_showline=False,\n",
    "            radialaxis_showline=False,\n",
    "            radialaxis_gridcolor='#F2F2F2'\n",
    "        ),\n",
    "        title=f\"Performance Metrics for {selected_team}\",\n",
    "        font=dict(size=15)\n",
    "    )\n",
    "\n",
    "    return fig\n",
    "\n",
    "if __name__ == '__main__':\n",
    "    app.run_server(debug=True, port=8051)\n"
   ]
  },
  {
   "cell_type": "code",
   "execution_count": 2,
   "outputs": [
    {
     "data": {
      "text/plain": "<IPython.core.display.HTML object>",
      "text/html": "\n    <a href=\"http://127.0.0.1:8051/\" target=\"_blank\">\n        Open Dash App\n    </a>\n"
     },
     "metadata": {},
     "output_type": "display_data"
    }
   ],
   "source": [
    "import threading\n",
    "from IPython.display import display, HTML\n",
    "\n",
    "# Function to run the Dash app\n",
    "def run_dash():\n",
    "    app.run_server(debug=False, use_reloader=False)\n",
    "\n",
    "# Start the Dash app in a separate thread\n",
    "threading.Thread(target=run_dash).start()\n",
    "\n",
    "# Display the link to open the app in the browser\n",
    "display(HTML(f\"\"\"\n",
    "    <a href=\"http://127.0.0.1:8051/\" target=\"_blank\">\n",
    "        Open Dash App\n",
    "    </a>\n",
    "\"\"\"))"
   ],
   "metadata": {
    "collapsed": false,
    "ExecuteTime": {
     "end_time": "2024-05-21T17:31:43.396273600Z",
     "start_time": "2024-05-21T17:31:43.333015Z"
    }
   },
   "id": "ff917bf50bade0d1"
  },
  {
   "cell_type": "markdown",
   "source": [],
   "metadata": {
    "collapsed": false
   },
   "id": "f377fd2be96f5278"
  },
  {
   "cell_type": "code",
   "execution_count": null,
   "outputs": [],
   "source": [],
   "metadata": {
    "collapsed": false
   },
   "id": "8ca65bab3a68a895"
  }
 ],
 "metadata": {
  "kernelspec": {
   "display_name": "Python 3",
   "language": "python",
   "name": "python3"
  },
  "language_info": {
   "codemirror_mode": {
    "name": "ipython",
    "version": 2
   },
   "file_extension": ".py",
   "mimetype": "text/x-python",
   "name": "python",
   "nbconvert_exporter": "python",
   "pygments_lexer": "ipython2",
   "version": "2.7.6"
  }
 },
 "nbformat": 4,
 "nbformat_minor": 5
}
